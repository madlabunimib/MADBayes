{
 "cells": [
  {
   "cell_type": "code",
   "execution_count": 1,
   "metadata": {},
   "outputs": [],
   "source": [
    "import os\n",
    "import sys\n",
    "sys.path.insert(0, os.path.abspath(os.path.join(os.path.dirname(''), '..')))\n",
    "\n",
    "import weighted_imputation as wi\n",
    "from weighted_imputation.io import parser"
   ]
  },
  {
   "cell_type": "code",
   "execution_count": 2,
   "metadata": {},
   "outputs": [],
   "source": [
    "file_parsed = parser.parse_network_file(\"../weighted_imputation/networks/survey.bif\")"
   ]
  },
  {
   "cell_type": "code",
   "execution_count": 3,
   "metadata": {},
   "outputs": [
    {
     "data": {
      "text/plain": [
       "{'A': <xarray.DataArray (A: 3)>\n",
       " array([0.3, 0.5, 0.2])\n",
       " Coordinates:\n",
       "   * A        (A) <U5 'young' 'adult' 'old',\n",
       " 'E': <xarray.DataArray (A: 3, S: 2, E: 2)>\n",
       " array([[[0.75, 0.25],\n",
       "         [0.64, 0.36]],\n",
       " \n",
       "        [[0.72, 0.28],\n",
       "         [0.7 , 0.3 ]],\n",
       " \n",
       "        [[0.88, 0.12],\n",
       "         [0.9 , 0.1 ]]])\n",
       " Coordinates:\n",
       "   * A        (A) <U5 'young' 'adult' 'old'\n",
       "   * S        (S) <U1 'M' 'F'\n",
       "   * E        (E) <U4 'high' 'uni',\n",
       " 'O': <xarray.DataArray (E: 2, O: 2)>\n",
       " array([[0.96, 0.04],\n",
       "        [0.92, 0.08]])\n",
       " Coordinates:\n",
       "   * E        (E) <U4 'high' 'uni'\n",
       "   * O        (O) <U4 'emp' 'self',\n",
       " 'R': <xarray.DataArray (E: 2, R: 2)>\n",
       " array([[0.25, 0.75],\n",
       "        [0.2 , 0.8 ]])\n",
       " Coordinates:\n",
       "   * E        (E) <U4 'high' 'uni'\n",
       "   * R        (R) <U5 'small' 'big',\n",
       " 'S': <xarray.DataArray (S: 2)>\n",
       " array([0.6, 0.4])\n",
       " Coordinates:\n",
       "   * S        (S) <U1 'M' 'F',\n",
       " 'T': <xarray.DataArray (O: 2, R: 2, T: 3)>\n",
       " array([[[0.48, 0.42, 0.1 ],\n",
       "         [0.58, 0.24, 0.18]],\n",
       " \n",
       "        [[0.56, 0.36, 0.08],\n",
       "         [0.7 , 0.21, 0.09]]])\n",
       " Coordinates:\n",
       "   * O        (O) <U4 'emp' 'self'\n",
       "   * R        (R) <U5 'small' 'big'\n",
       "   * T        (T) <U5 'car' 'train' 'other'}"
      ]
     },
     "execution_count": 3,
     "metadata": {},
     "output_type": "execute_result"
    }
   ],
   "source": [
    "wi.get_cpts(file_parsed)"
   ]
  },
  {
   "cell_type": "code",
   "execution_count": null,
   "metadata": {},
   "outputs": [],
   "source": []
  }
 ],
 "metadata": {
  "kernelspec": {
   "display_name": "Python 3.6.8 64-bit",
   "language": "python",
   "name": "python36864bitde9d353cc6c649f896942433b0076320"
  },
  "language_info": {
   "codemirror_mode": {
    "name": "ipython",
    "version": 3
   },
   "file_extension": ".py",
   "mimetype": "text/x-python",
   "name": "python",
   "nbconvert_exporter": "python",
   "pygments_lexer": "ipython3",
   "version": "3.6.9"
  }
 },
 "nbformat": 4,
 "nbformat_minor": 4
}
