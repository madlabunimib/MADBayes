{
 "cells": [
  {
   "cell_type": "code",
   "execution_count": 1,
   "metadata": {},
   "outputs": [],
   "source": [
    "import os\n",
    "import sys\n",
    "sys.path.insert(0, os.path.abspath(os.path.join(os.path.dirname(''), '..')))\n",
    "\n",
    "import weighted_imputation as wi\n",
    "from weighted_imputation.io import parser\n",
    "import pprint as pp"
   ]
  },
  {
   "cell_type": "code",
   "execution_count": 2,
   "metadata": {},
   "outputs": [],
   "source": [
    "file_parsed = parser.parse_network_file(\"../weighted_imputation/networks/survey.bif\")"
   ]
  },
  {
   "cell_type": "code",
   "execution_count": 3,
   "metadata": {
    "scrolled": true
   },
   "outputs": [
    {
     "name": "stdout",
     "output_type": "stream",
     "text": [
      "<xarray.DataArray (A: 3)>\n",
      "array([0.3, 0.5, 0.2])\n",
      "Coordinates:\n",
      "  * A        (A) <U5 'young' 'adult' 'old'\n",
      "{'A': <xarray.DataArray (A: 3)>\n",
      "array([0.3, 0.5, 0.2])\n",
      "Coordinates:\n",
      "  * A        (A) <U5 'young' 'adult' 'old'}\n"
     ]
    }
   ],
   "source": [
    "margin_table, margin_cache = wi.compute_margin_table(\"A\", wi.get_cpts(file_parsed), {})\n",
    "pp.pprint(margin_table)\n",
    "pp.pprint(margin_cache)"
   ]
  },
  {
   "cell_type": "code",
   "execution_count": 4,
   "metadata": {},
   "outputs": [
    {
     "name": "stdout",
     "output_type": "stream",
     "text": [
      "<xarray.DataArray (S: 2)>\n",
      "array([0.6, 0.4])\n",
      "Coordinates:\n",
      "  * S        (S) <U1 'M' 'F'\n",
      "{'S': <xarray.DataArray (S: 2)>\n",
      "array([0.6, 0.4])\n",
      "Coordinates:\n",
      "  * S        (S) <U1 'M' 'F'}\n"
     ]
    }
   ],
   "source": [
    "margin_table, margin_cache = wi.compute_margin_table(\"S\", wi.get_cpts(file_parsed), {})\n",
    "pp.pprint(margin_table)\n",
    "pp.pprint(margin_cache)"
   ]
  },
  {
   "cell_type": "code",
   "execution_count": 5,
   "metadata": {},
   "outputs": [
    {
     "name": "stdout",
     "output_type": "stream",
     "text": [
      "<xarray.DataArray (E: 2)>\n",
      "array([0.7454, 0.2546])\n",
      "Coordinates:\n",
      "  * E        (E) <U4 'high' 'uni'\n",
      "{'A': <xarray.DataArray (A: 3)>\n",
      "array([0.3, 0.5, 0.2])\n",
      "Coordinates:\n",
      "  * A        (A) <U5 'young' 'adult' 'old',\n",
      " 'E': <xarray.DataArray (E: 2)>\n",
      "array([0.7454, 0.2546])\n",
      "Coordinates:\n",
      "  * E        (E) <U4 'high' 'uni',\n",
      " 'S': <xarray.DataArray (S: 2)>\n",
      "array([0.6, 0.4])\n",
      "Coordinates:\n",
      "  * S        (S) <U1 'M' 'F'}\n"
     ]
    }
   ],
   "source": [
    "margin_table, margin_cache = wi.compute_margin_table(\"E\", wi.get_cpts(file_parsed), {})\n",
    "pp.pprint(margin_table)\n",
    "pp.pprint(margin_cache)"
   ]
  },
  {
   "cell_type": "code",
   "execution_count": 6,
   "metadata": {},
   "outputs": [
    {
     "name": "stdout",
     "output_type": "stream",
     "text": [
      "<xarray.DataArray (T: 3)>\n",
      "array([0.56181879, 0.28084587, 0.15733534])\n",
      "Coordinates:\n",
      "  * T        (T) <U5 'car' 'train' 'other'\n",
      "{'A': <xarray.DataArray (A: 3)>\n",
      "array([0.3, 0.5, 0.2])\n",
      "Coordinates:\n",
      "  * A        (A) <U5 'young' 'adult' 'old',\n",
      " 'E': <xarray.DataArray (E: 2)>\n",
      "array([0.7454, 0.2546])\n",
      "Coordinates:\n",
      "  * E        (E) <U4 'high' 'uni',\n",
      " 'O': <xarray.DataArray (O: 2)>\n",
      "array([0.949816, 0.050184])\n",
      "Coordinates:\n",
      "  * O        (O) <U4 'emp' 'self',\n",
      " 'R': <xarray.DataArray (R: 2)>\n",
      "array([0.23727, 0.76273])\n",
      "Coordinates:\n",
      "  * R        (R) <U5 'small' 'big',\n",
      " 'S': <xarray.DataArray (S: 2)>\n",
      "array([0.6, 0.4])\n",
      "Coordinates:\n",
      "  * S        (S) <U1 'M' 'F',\n",
      " 'T': <xarray.DataArray (T: 3)>\n",
      "array([0.56181879, 0.28084587, 0.15733534])\n",
      "Coordinates:\n",
      "  * T        (T) <U5 'car' 'train' 'other'}\n"
     ]
    }
   ],
   "source": [
    "margin_table, margin_cache = wi.compute_margin_table(\"T\", wi.get_cpts(file_parsed), {})\n",
    "pp.pprint(margin_table)\n",
    "pp.pprint(margin_cache)"
   ]
  },
  {
   "cell_type": "code",
   "execution_count": 7,
   "metadata": {},
   "outputs": [],
   "source": [
    "file_parsed_2 = parser.parse_network_file(\"../weighted_imputation/networks/sachs.bif\")"
   ]
  },
  {
   "cell_type": "code",
   "execution_count": 8,
   "metadata": {},
   "outputs": [
    {
     "name": "stdout",
     "output_type": "stream",
     "text": [
      "<xarray.DataArray (Akt: 3)>\n",
      "array([0.59950221, 0.36245262, 0.038045  ])\n",
      "Coordinates:\n",
      "  * Akt      (Akt) <U4 'LOW' 'AVG' 'HIGH'\n",
      "{'Akt': <xarray.DataArray (Akt: 3)>\n",
      "array([0.59950221, 0.36245262, 0.038045  ])\n",
      "Coordinates:\n",
      "  * Akt      (Akt) <U4 'LOW' 'AVG' 'HIGH',\n",
      " 'Erk': <xarray.DataArray (Erk: 3)>\n",
      "array([0.19304262, 0.59392068, 0.21303657])\n",
      "Coordinates:\n",
      "  * Erk      (Erk) <U4 'LOW' 'AVG' 'HIGH',\n",
      " 'Mek': <xarray.DataArray (Mek: 3)>\n",
      "array([0.60325469, 0.35448828, 0.04225694])\n",
      "Coordinates:\n",
      "  * Mek      (Mek) <U4 'LOW' 'AVG' 'HIGH',\n",
      " 'PKA': <xarray.DataArray (PKA: 3)>\n",
      "array([0.19409985, 0.69622907, 0.10967104])\n",
      "Coordinates:\n",
      "  * PKA      (PKA) <U4 'LOW' 'AVG' 'HIGH',\n",
      " 'PKC': <xarray.DataArray (PKC: 3)>\n",
      "array([0.42313152, 0.4816392 , 0.09522928])\n",
      "Coordinates:\n",
      "  * PKC      (PKC) <U4 'LOW' 'AVG' 'HIGH',\n",
      " 'Raf': <xarray.DataArray (Raf: 3)>\n",
      "array([0.51832499, 0.29287861, 0.18879637])\n",
      "Coordinates:\n",
      "  * Raf      (Raf) <U4 'LOW' 'AVG' 'HIGH'}\n"
     ]
    }
   ],
   "source": [
    "margin_table, margin_cache = wi.compute_margin_table(\"Akt\", wi.get_cpts(file_parsed_2), {})\n",
    "pp.pprint(margin_table)\n",
    "pp.pprint(margin_cache)"
   ]
  },
  {
   "cell_type": "code",
   "execution_count": null,
   "metadata": {},
   "outputs": [],
   "source": []
  }
 ],
 "metadata": {
  "kernelspec": {
   "display_name": "Python 3",
   "language": "python",
   "name": "python3"
  },
  "language_info": {
   "codemirror_mode": {
    "name": "ipython",
    "version": 3
   },
   "file_extension": ".py",
   "mimetype": "text/x-python",
   "name": "python",
   "nbconvert_exporter": "python",
   "pygments_lexer": "ipython3",
   "version": "3.7.5"
  }
 },
 "nbformat": 4,
 "nbformat_minor": 4
}
