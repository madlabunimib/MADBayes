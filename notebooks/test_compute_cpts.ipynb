{
 "cells": [
  {
   "cell_type": "code",
   "execution_count": 1,
   "metadata": {},
   "outputs": [],
   "source": [
    "import os\n",
    "import sys\n",
    "sys.path.insert(0, os.path.abspath(os.path.join(os.path.dirname(''), '..')))\n",
    "\n",
    "import weighted_imputation as wi\n",
    "from weighted_imputation.io import parser\n",
    "import pprint as pp"
   ]
  },
  {
   "cell_type": "code",
   "execution_count": 2,
   "metadata": {},
   "outputs": [],
   "source": [
    "file_parsed = parser.parse_network_file(\"../weighted_imputation/networks/survey.bif\")"
   ]
  },
  {
   "cell_type": "code",
   "execution_count": 3,
   "metadata": {
    "scrolled": false
   },
   "outputs": [
    {
     "data": {
      "text/plain": [
       "{'A': <xarray.DataArray (A: 3)>\n",
       " array([0.3, 0.5, 0.2])\n",
       " Coordinates:\n",
       "   * A        (A) <U5 'young' 'adult' 'old',\n",
       " 'E': <xarray.DataArray (E: 2, A: 3, S: 2)>\n",
       " array([[[0.75, 0.64],\n",
       "         [0.72, 0.7 ],\n",
       "         [0.88, 0.9 ]],\n",
       " \n",
       "        [[0.25, 0.36],\n",
       "         [0.28, 0.3 ],\n",
       "         [0.12, 0.1 ]]])\n",
       " Coordinates:\n",
       "   * E        (E) <U4 'high' 'uni'\n",
       "   * A        (A) <U5 'young' 'adult' 'old'\n",
       "   * S        (S) <U1 'M' 'F',\n",
       " 'O': <xarray.DataArray (O: 2, E: 2)>\n",
       " array([[0.96, 0.92],\n",
       "        [0.04, 0.08]])\n",
       " Coordinates:\n",
       "   * O        (O) <U4 'emp' 'self'\n",
       "   * E        (E) <U4 'high' 'uni',\n",
       " 'R': <xarray.DataArray (R: 2, E: 2)>\n",
       " array([[0.25, 0.2 ],\n",
       "        [0.75, 0.8 ]])\n",
       " Coordinates:\n",
       "   * R        (R) <U5 'small' 'big'\n",
       "   * E        (E) <U4 'high' 'uni',\n",
       " 'S': <xarray.DataArray (S: 2)>\n",
       " array([0.6, 0.4])\n",
       " Coordinates:\n",
       "   * S        (S) <U1 'M' 'F',\n",
       " 'T': <xarray.DataArray (T: 3, O: 2, R: 2)>\n",
       " array([[[0.48, 0.58],\n",
       "         [0.56, 0.7 ]],\n",
       " \n",
       "        [[0.42, 0.24],\n",
       "         [0.36, 0.21]],\n",
       " \n",
       "        [[0.1 , 0.18],\n",
       "         [0.08, 0.09]]])\n",
       " Coordinates:\n",
       "   * T        (T) <U5 'car' 'train' 'other'\n",
       "   * O        (O) <U4 'emp' 'self'\n",
       "   * R        (R) <U5 'small' 'big'}"
      ]
     },
     "execution_count": 3,
     "metadata": {},
     "output_type": "execute_result"
    }
   ],
   "source": [
    "wi.get_cpts(file_parsed)"
   ]
  },
  {
   "cell_type": "code",
   "execution_count": 10,
   "metadata": {
    "scrolled": false
   },
   "outputs": [
    {
     "data": {
      "text/html": [
       "<pre>&lt;xarray.DataArray (A: 3)&gt;\n",
       "array([0.3, 0.5, 0.2])\n",
       "Coordinates:\n",
       "  * A        (A) &lt;U5 &#x27;young&#x27; &#x27;adult&#x27; &#x27;old&#x27;</pre>"
      ],
      "text/plain": [
       "<xarray.DataArray (A: 3)>\n",
       "array([0.3, 0.5, 0.2])\n",
       "Coordinates:\n",
       "  * A        (A) <U5 'young' 'adult' 'old'"
      ]
     },
     "execution_count": 10,
     "metadata": {},
     "output_type": "execute_result"
    }
   ],
   "source": [
    "wi.compute_margin_table(\"A\", wi.get_cpts(file_parsed))"
   ]
  },
  {
   "cell_type": "code",
   "execution_count": 11,
   "metadata": {},
   "outputs": [
    {
     "data": {
      "text/html": [
       "<pre>&lt;xarray.DataArray (S: 2)&gt;\n",
       "array([0.6, 0.4])\n",
       "Coordinates:\n",
       "  * S        (S) &lt;U1 &#x27;M&#x27; &#x27;F&#x27;</pre>"
      ],
      "text/plain": [
       "<xarray.DataArray (S: 2)>\n",
       "array([0.6, 0.4])\n",
       "Coordinates:\n",
       "  * S        (S) <U1 'M' 'F'"
      ]
     },
     "execution_count": 11,
     "metadata": {},
     "output_type": "execute_result"
    }
   ],
   "source": [
    "wi.compute_margin_table(\"S\", wi.get_cpts(file_parsed))"
   ]
  },
  {
   "cell_type": "code",
   "execution_count": 12,
   "metadata": {},
   "outputs": [
    {
     "data": {
      "text/html": [
       "<pre>&lt;xarray.DataArray (E: 2)&gt;\n",
       "array([0.7454, 0.2546])\n",
       "Coordinates:\n",
       "  * E        (E) &lt;U4 &#x27;high&#x27; &#x27;uni&#x27;</pre>"
      ],
      "text/plain": [
       "<xarray.DataArray (E: 2)>\n",
       "array([0.7454, 0.2546])\n",
       "Coordinates:\n",
       "  * E        (E) <U4 'high' 'uni'"
      ]
     },
     "execution_count": 12,
     "metadata": {},
     "output_type": "execute_result"
    }
   ],
   "source": [
    "wi.compute_margin_table(\"E\", wi.get_cpts(file_parsed))"
   ]
  },
  {
   "cell_type": "code",
   "execution_count": null,
   "metadata": {},
   "outputs": [],
   "source": []
  }
 ],
 "metadata": {
  "kernelspec": {
   "display_name": "Python 3.6.8 64-bit",
   "language": "python",
   "name": "python36864bitde9d353cc6c649f896942433b0076320"
  },
  "language_info": {
   "codemirror_mode": {
    "name": "ipython",
    "version": 3
   },
   "file_extension": ".py",
   "mimetype": "text/x-python",
   "name": "python",
   "nbconvert_exporter": "python",
   "pygments_lexer": "ipython3",
   "version": "3.6.9"
  }
 },
 "nbformat": 4,
 "nbformat_minor": 4
}
