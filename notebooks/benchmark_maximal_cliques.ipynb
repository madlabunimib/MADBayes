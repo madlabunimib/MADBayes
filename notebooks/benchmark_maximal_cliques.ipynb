{
 "cells": [
  {
   "cell_type": "code",
   "execution_count": 1,
   "metadata": {},
   "outputs": [],
   "source": [
    "import numpy as np\n",
    "import networkx as nx\n",
    "from timeit import timeit"
   ]
  },
  {
   "cell_type": "code",
   "execution_count": 2,
   "metadata": {},
   "outputs": [],
   "source": [
    "import os\n",
    "import sys\n",
    "sys.path.insert(0, os.path.abspath(os.path.join(os.path.dirname(''), '..')))\n",
    "import weighted_imputation as wi"
   ]
  },
  {
   "cell_type": "code",
   "execution_count": 3,
   "metadata": {},
   "outputs": [],
   "source": [
    "def build_graph(N, p=0.3):\n",
    "    nodes = [str(n) for n in range(N)]\n",
    "    matrix = np.random.choice(a=[False, True], size=(N, N), p=[p, 1-p])\n",
    "    for i in range(N):\n",
    "        matrix[i,i] = False\n",
    "    return wi.Graph(nodes, matrix)"
   ]
  },
  {
   "cell_type": "code",
   "execution_count": 4,
   "metadata": {},
   "outputs": [],
   "source": [
    "params = [10, 25, 50, 100]\n",
    "graphs = [build_graph(N) for N in params]\n",
    "Gs = [graph.to_networkx() for graph in graphs]"
   ]
  },
  {
   "cell_type": "code",
   "execution_count": 5,
   "metadata": {},
   "outputs": [],
   "source": [
    "# Invoke JIT for the first time\n",
    "nop = wi.maximal_cliques(graphs[0])"
   ]
  },
  {
   "cell_type": "code",
   "execution_count": 6,
   "metadata": {},
   "outputs": [
    {
     "data": {
      "text/plain": [
       "[0.07832808500097599,\n",
       " 0.23088509099943622,\n",
       " 0.9053960840010404,\n",
       " 8.431214012000055]"
      ]
     },
     "execution_count": 6,
     "metadata": {},
     "output_type": "execute_result"
    }
   ],
   "source": [
    "time0 = [timeit(lambda: wi.maximal_cliques(graph), number=1000) for graph in graphs]\n",
    "time0"
   ]
  },
  {
   "cell_type": "code",
   "execution_count": 7,
   "metadata": {},
   "outputs": [
    {
     "data": {
      "text/plain": [
       "[0.024198720999265788,\n",
       " 0.07841520600049989,\n",
       " 0.19888265900044644,\n",
       " 0.8300626889995328]"
      ]
     },
     "execution_count": 7,
     "metadata": {},
     "output_type": "execute_result"
    }
   ],
   "source": [
    "time1 = [timeit(lambda: nx.find_cliques_recursive(G), number=1000) for G in Gs]\n",
    "time1"
   ]
  },
  {
   "cell_type": "code",
   "execution_count": 8,
   "metadata": {},
   "outputs": [],
   "source": [
    "%matplotlib inline  \n",
    "import matplotlib\n",
    "import matplotlib.pyplot as plt\n",
    "import numpy as np"
   ]
  },
  {
   "cell_type": "code",
   "execution_count": 9,
   "metadata": {},
   "outputs": [],
   "source": [
    "x = np.arange(len(params))\n",
    "width = 0.20"
   ]
  },
  {
   "cell_type": "code",
   "execution_count": 10,
   "metadata": {},
   "outputs": [
    {
     "data": {
      "text/plain": [
       "<matplotlib.legend.Legend at 0x7f573ee15080>"
      ]
     },
     "execution_count": 10,
     "metadata": {},
     "output_type": "execute_result"
    },
    {
     "data": {
      "image/png": "[encoded data removed]",
      "text/plain": [
       "<Figure size 432x288 with 1 Axes>"
      ]
     },
     "metadata": {
      "needs_background": "light"
     },
     "output_type": "display_data"
    }
   ],
   "source": [
    "fig, ax = plt.subplots()\n",
    "rects1 = ax.bar(x - width/2, time0, width, label='MADLab')\n",
    "rects2 = ax.bar(x + width/2, time1, width, label='Networkx')\n",
    "\n",
    "plt.yscale('log')\n",
    "ax.set_ylabel('Execution times')\n",
    "ax.set_title('Graph moralization - Execution times')\n",
    "ax.set_xticks(x)\n",
    "ax.set_xticklabels(params)\n",
    "ax.legend()"
   ]
  },
  {
   "cell_type": "code",
   "execution_count": 11,
   "metadata": {},
   "outputs": [],
   "source": [
    "fig.tight_layout()\n",
    "plt.show()"
   ]
  }
 ],
 "metadata": {
  "kernelspec": {
   "display_name": "Python 3",
   "language": "python",
   "name": "python3"
  },
  "language_info": {
   "codemirror_mode": {
    "name": "ipython",
    "version": 3
   },
   "file_extension": ".py",
   "mimetype": "text/x-python",
   "name": "python",
   "nbconvert_exporter": "python",
   "pygments_lexer": "ipython3",
   "version": "3.6.9"
  }
 },
 "nbformat": 4,
 "nbformat_minor": 4
}
