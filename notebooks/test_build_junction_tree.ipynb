{
 "cells": [
  {
   "cell_type": "code",
   "execution_count": 1,
   "metadata": {},
   "outputs": [],
   "source": [
    "import weighted_imputation as wi\n",
    "import matplotlib.pyplot as plt\n",
    "import networkx as nx\n",
    "from weighted_imputation.structures import Graph"
   ]
  },
  {
   "cell_type": "code",
   "execution_count": 2,
   "metadata": {},
   "outputs": [],
   "source": [
    "cliques_0 = [{'d','g'},{'d','h'},{'b','d','e'},{'e','i'},{'a','b','c'},{'b','c','e'},{'c','f'},{'i','z'}]\n",
    "graph_0 = Graph({'a','b','c','d','e','f','g','h','i','z'})\n",
    "\n",
    "cliques_1 = [{'d','g'},{'d','h'},{'b','d','e'},{'e','i'},{'a','b','c'},{'b','c','e'},{'c','f'},{'i','z'},\n",
    "             {'c', 'z'}, {'g', 'z'}, {'x', 'z'}, {'y', 'z'}]\n",
    "graph_1 = Graph({'a','b','c','d','e','f','g','h','i','x','y','z'})"
   ]
  },
  {
   "cell_type": "code",
   "execution_count": 3,
   "metadata": {
    "scrolled": false
   },
   "outputs": [],
   "source": [
    "tree_0 = wi.build_junction_tree(graph_0, cliques_0)\n",
    "#print(\"All clique are in the tree?\", tree_0.number_of_nodes() == len(cliques_0))\n",
    "#print(\"Number of edges\", tree_0.number_of_edges())\n",
    "#print(\"Is tree?\", nx.is_tree(tree_0))"
   ]
  },
  {
   "cell_type": "code",
   "execution_count": 4,
   "metadata": {},
   "outputs": [],
   "source": [
    "tree_1 = wi.build_junction_tree(graph_1, cliques_1)\n",
    "#print(\"All clique are in the tree?\", tree_1.number_of_nodes() == len(cliques_1))\n",
    "#print(\"Number of edges\", tree_1.number_of_edges())\n",
    "#print(\"Is tree?\", nx.is_tree(tree_1))"
   ]
  },
  {
   "cell_type": "code",
   "execution_count": 5,
   "metadata": {},
   "outputs": [],
   "source": [
    "graphs = [\n",
    "    wi.DirectedGraph.from_string(\"[1][8][2|1:8][5|1][6|5][3|2][4|2][7|3:4:6]\"),\n",
    "    wi.DirectedGraph.from_string(\"[A][C][F][B|A][D|A:C][E|B:F]\"),\n",
    "    wi.DirectedGraph.from_string(\"[A][S][T|A][L|S][B|S][D|B:E][E|T:L][X|E]\"),\n",
    "    wi.DirectedGraph.from_string(\"[A][B][C][H][D|A:H][F|B:C][E|B:D][G|A:D:E:F]\"),\n",
    "    wi.DirectedGraph.from_string(\"[HIST|LVF][CVP|LVV][PCWP|LVV][HYP][LVV|HYP:LVF][LVF]\" +\n",
    "                                \"[STKV|HYP:LVF][ERLO][HRBP|ERLO:HR][HREK|ERCA:HR][ERCA][HRSA|ERCA:HR][ANES]\" +\n",
    "                                \"[APL][TPR|APL][ECO2|ACO2:VLNG][KINK][MINV|INT:VLNG][FIO2][PVS|FIO2:VALV]\" +\n",
    "                                \"[SAO2|PVS:SHNT][PAP|PMB][PMB][SHNT|INT:PMB][INT][PRSS|INT:KINK:VTUB][DISC]\" +\n",
    "                                \"[MVS][VMCH|MVS][VTUB|DISC:VMCH][VLNG|INT:KINK:VTUB][VALV|INT:VLNG]\" +\n",
    "                                \"[ACO2|VALV][CCHL|ACO2:ANES:SAO2:TPR][HR|CCHL][CO|HR:STKV][BP|CO:TPR]\"),\n",
    "    wi.DirectedGraph.from_string(\"[Age][Mileage][SocioEcon|Age][GoodStudent|Age:SocioEcon]\" + \n",
    "                              \"[RiskAversion|Age:SocioEcon][OtherCar|SocioEcon]\" +\n",
    "                              \"[VehicleYear|SocioEcon:RiskAversion][MakeModel|SocioEcon:RiskAversion]\" + \n",
    "                              \"[SeniorTrain|Age:RiskAversion][HomeBase|SocioEcon:RiskAversion]\" +\n",
    "                              \"[AntiTheft|SocioEcon:RiskAversion][RuggedAuto|VehicleYear:MakeModel]\" +\n",
    "                              \"[Antilock|VehicleYear:MakeModel][DrivingSkill|Age:SeniorTrain]\" +\n",
    "                              \"[CarValue|VehicleYear:MakeModel:Mileage][Airbag|VehicleYear:MakeModel]\" +\n",
    "                              \"[DrivQuality|RiskAversion:DrivingSkill][Theft|CarValue:HomeBase:AntiTheft]\" +\n",
    "                              \"[Cushioning|RuggedAuto:Airbag][DrivHist|RiskAversion:DrivingSkill]\" +\n",
    "                              \"[Accident|DrivQuality:Mileage:Antilock][ThisCarDam|RuggedAuto:Accident]\" +\n",
    "                              \"[OtherCarCost|RuggedAuto:Accident][MedCost|Age:Accident:Cushioning]\" +\n",
    "                              \"[ILiCost|Accident][ThisCarCost|ThisCarDam:Theft:CarValue]\" +\n",
    "                              \"[PropCost|ThisCarCost:OtherCarCost]\"),\n",
    "    wi.DirectedGraph.from_string(\"[N07muVerMo][SubjVertMo][QGVertMotion][SatContMoist][RaoContMoist]\" +\n",
    "                      \"[VISCloudCov][IRCloudCover][AMInstabMt][WndHodograph][MorningBound][LoLevMoistAd][Date]\" +\n",
    "                      \"[MorningCIN][LIfr12ZDENSd][AMDewptCalPl][LatestCIN][LLIW]\" +\n",
    "                      \"[CombVerMo|N07muVerMo:SubjVertMo:QGVertMotion][CombMoisture|SatContMoist:RaoContMoist]\" +\n",
    "                      \"[CombClouds|VISCloudCov:IRCloudCover][Scenario|Date][CurPropConv|LatestCIN:LLIW]\" +\n",
    "                      \"[AreaMesoALS|CombVerMo][ScenRelAMCIN|Scenario][ScenRelAMIns|Scenario][ScenRel34|Scenario]\" +\n",
    "                      \"[ScnRelPlFcst|Scenario][Dewpoints|Scenario][LowLLapse|Scenario][MeanRH|Scenario]\" +\n",
    "                      \"[MidLLapse|Scenario][MvmtFeatures|Scenario][RHRatio|Scenario][SfcWndShfDis|Scenario]\" +\n",
    "                      \"[SynForcng|Scenario][TempDis|Scenario][WindAloft|Scenario][WindFieldMt|Scenario]\" +\n",
    "                      \"[WindFieldPln|Scenario][AreaMoDryAir|AreaMesoALS:CombMoisture]\" +\n",
    "                      \"[AMCINInScen|ScenRelAMCIN:MorningCIN][AMInsWliScen|ScenRelAMIns:LIfr12ZDENSd:AMDewptCalPl]\" +\n",
    "                      \"[CldShadeOth|AreaMesoALS:AreaMoDryAir:CombClouds][InsInMt|CldShadeOth:AMInstabMt]\" +\n",
    "                      \"[OutflowFrMt|InsInMt:WndHodograph][CldShadeConv|InsInMt:WndHodograph][MountainFcst|InsInMt]\" +\n",
    "                      \"[Boundaries|WndHodograph:OutflowFrMt:MorningBound][N34StarFcst|ScenRel34:PlainsFcst]\" +\n",
    "                      \"[CompPlFcst|AreaMesoALS:CldShadeOth:Boundaries:CldShadeConv][CapChange|CompPlFcst]\" +\n",
    "                      \"[InsChange|CompPlFcst:LoLevMoistAd][CapInScen|CapChange:AMCINInScen]\" +\n",
    "                      \"[InsSclInScen|InsChange:AMInsWliScen][R5Fcst|MountainFcst:N34StarFcst]\" +\n",
    "                      \"[PlainsFcst|CapInScen:InsSclInScen:CurPropConv:ScnRelPlFcst]\")\n",
    "    ]"
   ]
  },
  {
   "cell_type": "code",
   "execution_count": 6,
   "metadata": {
    "scrolled": false
   },
   "outputs": [],
   "source": [
    "for graph in graphs:\n",
    "    moralized_graph = wi.moralize(graph)\n",
    "    triangulated_graph = wi.triangulate(moralized_graph)\n",
    "    cliques = wi.maximal_cliques(triangulated_graph)\n",
    "    \n",
    "    junction_tree = wi.build_junction_tree(graph, cliques)\n",
    "    #print(\"All clique are in the tree?\", junction_tree.number_of_nodes() == len(cliques))\n",
    "    #print(\"Number of edges\", junction_tree.number_of_edges())\n",
    "    #print(\"Is tree?\", nx.is_tree(junction_tree))"
   ]
  },
  {
   "cell_type": "code",
   "execution_count": null,
   "metadata": {},
   "outputs": [],
   "source": []
  }
 ],
 "metadata": {
  "kernelspec": {
   "display_name": "Python 3.6.8 64-bit",
   "language": "python",
   "name": "python36864bitde9d353cc6c649f896942433b0076320"
  },
  "language_info": {
   "codemirror_mode": {
    "name": "ipython",
    "version": 3
   },
   "file_extension": ".py",
   "mimetype": "text/x-python",
   "name": "python",
   "nbconvert_exporter": "python",
   "pygments_lexer": "ipython3",
   "version": "3.6.9"
  }
 },
 "nbformat": 4,
 "nbformat_minor": 4
}
