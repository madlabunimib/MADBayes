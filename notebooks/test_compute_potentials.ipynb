{
 "cells": [
  {
   "cell_type": "code",
   "execution_count": 1,
   "metadata": {},
   "outputs": [],
   "source": [
    "import os\n",
    "import sys\n",
    "sys.path.insert(0, os.path.abspath(os.path.join(os.path.dirname(''), '..')))\n",
    "\n",
    "import weighted_imputation as wi\n",
    "import pprint as pp\n",
    "from weighted_imputation.io import parser\n",
    "from weighted_imputation.structures import JunctionTree, DirectedGraph"
   ]
  },
  {
   "cell_type": "code",
   "execution_count": 2,
   "metadata": {},
   "outputs": [
    {
     "data": {
      "text/plain": [
       "{'A': <xarray.DataArray (A: 3)>\n",
       " array([0.3, 0.5, 0.2])\n",
       " Coordinates:\n",
       "   * A        (A) <U5 'young' 'adult' 'old',\n",
       " 'E|A:S': <xarray.DataArray (E: 2, A: 3, S: 2)>\n",
       " array([[[0.75, 0.64],\n",
       "         [0.72, 0.7 ],\n",
       "         [0.88, 0.9 ]],\n",
       " \n",
       "        [[0.25, 0.36],\n",
       "         [0.28, 0.3 ],\n",
       "         [0.12, 0.1 ]]])\n",
       " Coordinates:\n",
       "   * E        (E) <U4 'high' 'uni'\n",
       "   * A        (A) <U5 'young' 'adult' 'old'\n",
       "   * S        (S) <U1 'M' 'F',\n",
       " 'O|E': <xarray.DataArray (O: 2, E: 2)>\n",
       " array([[0.96, 0.92],\n",
       "        [0.04, 0.08]])\n",
       " Coordinates:\n",
       "   * O        (O) <U4 'emp' 'self'\n",
       "   * E        (E) <U4 'high' 'uni',\n",
       " 'R|E': <xarray.DataArray (R: 2, E: 2)>\n",
       " array([[0.25, 0.2 ],\n",
       "        [0.75, 0.8 ]])\n",
       " Coordinates:\n",
       "   * R        (R) <U5 'small' 'big'\n",
       "   * E        (E) <U4 'high' 'uni',\n",
       " 'S': <xarray.DataArray (S: 2)>\n",
       " array([0.6, 0.4])\n",
       " Coordinates:\n",
       "   * S        (S) <U1 'M' 'F',\n",
       " 'T|O:R': <xarray.DataArray (T: 3, O: 2, R: 2)>\n",
       " array([[[0.48, 0.58],\n",
       "         [0.56, 0.7 ]],\n",
       " \n",
       "        [[0.42, 0.24],\n",
       "         [0.36, 0.21]],\n",
       " \n",
       "        [[0.1 , 0.18],\n",
       "         [0.08, 0.09]]])\n",
       " Coordinates:\n",
       "   * T        (T) <U5 'car' 'train' 'other'\n",
       "   * O        (O) <U4 'emp' 'self'\n",
       "   * R        (R) <U5 'small' 'big'}"
      ]
     },
     "execution_count": 2,
     "metadata": {},
     "output_type": "execute_result"
    }
   ],
   "source": [
    "graph = DirectedGraph.from_structure(\"[A][S][E|A:S][O|E][R|E][T|O:R]\")\n",
    "junction_tree = JunctionTree.from_graph(graph)\n",
    "cpts_file = parser.parse_network_file(\"../weighted_imputation/networks/survey.bif\")\n",
    "wi.compute_potentials(junction_tree, cpts_file)"
   ]
  },
  {
   "cell_type": "code",
   "execution_count": 5,
   "metadata": {
    "scrolled": false
   },
   "outputs": [
    {
     "data": {
      "text/plain": [
       "{'asia': <xarray.DataArray (asia: 2)>\n",
       " array([0.01, 0.99])\n",
       " Coordinates:\n",
       "   * asia     (asia) <U3 'yes' 'no',\n",
       " 'bronc|smoke': <xarray.DataArray (bronc: 2, smoke: 2)>\n",
       " array([[0.6, 0.3],\n",
       "        [0.4, 0.7]])\n",
       " Coordinates:\n",
       "   * bronc    (bronc) <U3 'yes' 'no'\n",
       "   * smoke    (smoke) <U3 'yes' 'no',\n",
       " 'dysp|bronc:either': <xarray.DataArray (dysp: 2, bronc: 2, either: 2)>\n",
       " array([[[0.9, 0.8],\n",
       "         [0.7, 0.1]],\n",
       " \n",
       "        [[0.1, 0.2],\n",
       "         [0.3, 0.9]]])\n",
       " Coordinates:\n",
       "   * dysp     (dysp) <U3 'yes' 'no'\n",
       "   * bronc    (bronc) <U3 'yes' 'no'\n",
       "   * either   (either) <U3 'yes' 'no',\n",
       " 'either|lung:tub': <xarray.DataArray (either: 2, lung: 2, tub: 2)>\n",
       " array([[[1., 1.],\n",
       "         [1., 0.]],\n",
       " \n",
       "        [[0., 0.],\n",
       "         [0., 1.]]])\n",
       " Coordinates:\n",
       "   * either   (either) <U3 'yes' 'no'\n",
       "   * lung     (lung) <U3 'yes' 'no'\n",
       "   * tub      (tub) <U3 'yes' 'no',\n",
       " 'lung|smoke': <xarray.DataArray (lung: 2, smoke: 2)>\n",
       " array([[0.1 , 0.01],\n",
       "        [0.9 , 0.99]])\n",
       " Coordinates:\n",
       "   * lung     (lung) <U3 'yes' 'no'\n",
       "   * smoke    (smoke) <U3 'yes' 'no',\n",
       " 'smoke': <xarray.DataArray (smoke: 2)>\n",
       " array([0.5, 0.5])\n",
       " Coordinates:\n",
       "   * smoke    (smoke) <U3 'yes' 'no',\n",
       " 'tub|asia': <xarray.DataArray (tub: 2, asia: 2)>\n",
       " array([[0.05, 0.01],\n",
       "        [0.95, 0.99]])\n",
       " Coordinates:\n",
       "   * tub      (tub) <U3 'yes' 'no'\n",
       "   * asia     (asia) <U3 'yes' 'no',\n",
       " 'xray|either': <xarray.DataArray (xray: 2, either: 2)>\n",
       " array([[0.98, 0.05],\n",
       "        [0.02, 0.95]])\n",
       " Coordinates:\n",
       "   * xray     (xray) <U3 'yes' 'no'\n",
       "   * either   (either) <U3 'yes' 'no'}"
      ]
     },
     "execution_count": 5,
     "metadata": {},
     "output_type": "execute_result"
    }
   ],
   "source": [
    "graph = DirectedGraph.from_structure(\"[asia][smoke][tub|asia][lung|smoke][bronc|smoke][dysp|bronc:either]\" +\n",
    "                                     \"[either|tub:lung][xray|either]\")\n",
    "junction_tree = JunctionTree.from_graph(graph)\n",
    "cpts_file = parser.parse_network_file(\"../weighted_imputation/networks/asia.bif\")\n",
    "wi.get_cpts(cpts_file)\n",
    "\n",
    "#wi.compute_potentials(junction_tree, cpts_file)"
   ]
  },
  {
   "cell_type": "code",
   "execution_count": null,
   "metadata": {},
   "outputs": [],
   "source": []
  }
 ],
 "metadata": {
  "kernelspec": {
   "display_name": "Python 3.6.8 64-bit",
   "language": "python",
   "name": "python36864bitde9d353cc6c649f896942433b0076320"
  },
  "language_info": {
   "codemirror_mode": {
    "name": "ipython",
    "version": 3
   },
   "file_extension": ".py",
   "mimetype": "text/x-python",
   "name": "python",
   "nbconvert_exporter": "python",
   "pygments_lexer": "ipython3",
   "version": "3.6.9"
  }
 },
 "nbformat": 4,
 "nbformat_minor": 4
}
