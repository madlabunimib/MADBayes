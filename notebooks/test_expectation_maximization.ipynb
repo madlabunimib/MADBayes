{
 "cells": [
  {
   "cell_type": "code",
   "execution_count": null,
   "metadata": {},
   "outputs": [],
   "source": [
    "import numpy as np\n",
    "import pandas as pd\n",
    "from scipy.special import rel_entr\n",
    "from IPython.display import display, HTML"
   ]
  },
  {
   "cell_type": "code",
   "execution_count": null,
   "metadata": {},
   "outputs": [],
   "source": [
    "import os\n",
    "import sys\n",
    "sys.path.insert(0, os.path.abspath('..'))\n",
    "import madbayes as mb"
   ]
  },
  {
   "cell_type": "code",
   "execution_count": null,
   "metadata": {},
   "outputs": [],
   "source": [
    "def test_em(name, network, sample, ratio):\n",
    "    dataset = mb.forward_sampling(network, sample)\n",
    "    dataset_nan = dataset.random_nan(ratio)\n",
    "    network_nan = mb.expectation_maximization(network, dataset_nan)\n",
    "    imputed = mb.impute(network_nan, dataset_nan)\n",
    "    count_nan = dataset_nan.count_nan()\n",
    "    correct_replacement = np.count_nonzero(dataset.data.values != imputed.data.values)\n",
    "    absolute_difference = np.array([\n",
    "        np.sum(np.fabs(network_nan[node][\"CPT\"] - network[node][\"CPT\"] ))\n",
    "        for node in network.nodes()\n",
    "    ])\n",
    "    absolute_difference = np.sum(absolute_difference)\n",
    "    kullback_leibler = np.array([\n",
    "        np.sum(rel_entr(network_nan[node][\"CPT\"], network[node][\"CPT\"]))\n",
    "        for node in network.nodes()\n",
    "    ])\n",
    "    kullback_leibler = np.sum(kullback_leibler)\n",
    "    return {\n",
    "        'name' : name,\n",
    "        'samples': sample,\n",
    "        'nan_ratio': ratio,\n",
    "        'correct_replacement': 1 - (correct_replacement / count_nan),\n",
    "        'absolute_difference': absolute_difference,\n",
    "        'kullback_leibler': kullback_leibler\n",
    "    }"
   ]
  },
  {
   "cell_type": "code",
   "execution_count": null,
   "metadata": {},
   "outputs": [],
   "source": [
    "networks = mb.data.network.NETWORKS\n",
    "networks = [\n",
    "    (network, getattr(mb.data.network, network))\n",
    "    for network, _ in networks.items()\n",
    "    if network in ['asia', 'survey']\n",
    "]"
   ]
  },
  {
   "cell_type": "code",
   "execution_count": null,
   "metadata": {},
   "outputs": [],
   "source": [
    "for (name, network) in networks:\n",
    "    for sample in [100, 250, 500, 1000, 2000]:\n",
    "        for ratio in [0.05, 0.10, 0.15, 0.20]:\n",
    "            data = pd.DataFrame([\n",
    "                test_em(name, network, sample, ratio)\n",
    "                for _ in range(10)\n",
    "            ])\n",
    "            data.to_csv(\n",
    "                \"./{}_{}_{}.csv\".format(name, sample, int(round(ratio * 100)))\n",
    "            )\n",
    "            display(HTML(data.to_html()))"
   ]
  },
  {
   "cell_type": "code",
   "execution_count": null,
   "metadata": {},
   "outputs": [],
   "source": []
  }
 ],
 "metadata": {
  "kernelspec": {
   "display_name": "Python 3",
   "language": "python",
   "name": "python3"
  },
  "language_info": {
   "codemirror_mode": {
    "name": "ipython",
    "version": 3
   },
   "file_extension": ".py",
   "mimetype": "text/x-python",
   "name": "python",
   "nbconvert_exporter": "python",
   "pygments_lexer": "ipython3",
   "version": "3.8.2"
  }
 },
 "nbformat": 4,
 "nbformat_minor": 4
}
